{
 "cells": [
  {
   "cell_type": "markdown",
   "id": "cab6ed0d-f44b-4621-9085-ee0ae8068335",
   "metadata": {},
   "source": [
    "# Which has a greater impact on life expectancy in 193 countries, alcohol consumption or education? "
   ]
  },
  {
   "cell_type": "markdown",
   "id": "7b7125b8-192c-401f-818c-733ab084f655",
   "metadata": {},
   "source": [
    "### 1. Introduction and Literature Review"
   ]
  },
  {
   "cell_type": "markdown",
   "id": "ed9c9e43-a3c4-4d83-a84c-105aff15272b",
   "metadata": {},
   "source": [
    "### 2. Research Question\n",
    "\n",
    "Which has a greater impact on life expectancy in 193 countries, alcohol consumption or education? This could be the more focused research question. However, in general, we'd like to see which predictive variables have an effect on life expectancy. "
   ]
  },
  {
   "cell_type": "markdown",
   "id": "31687a3b-344c-4634-b6a2-f9c759b4f14a",
   "metadata": {},
   "source": [
    "### 3. Presentation of Data"
   ]
  },
  {
   "cell_type": "markdown",
   "id": "544ccb10-b1ee-43d5-95ae-07a083cf0278",
   "metadata": {},
   "source": [
    "### 4. Methodology"
   ]
  },
  {
   "cell_type": "markdown",
   "id": "cd33d484-e75f-40d9-85ae-f24d20f7186c",
   "metadata": {},
   "source": [
    "### 5. Results and Discussion"
   ]
  },
  {
   "cell_type": "markdown",
   "id": "75e60568-d02a-4392-91d0-8ce3285fc574",
   "metadata": {},
   "source": [
    "### 6. Conclusion"
   ]
  },
  {
   "cell_type": "code",
   "execution_count": null,
   "id": "80641825-e2e8-48c6-b897-11a6ed7b3bcf",
   "metadata": {},
   "outputs": [],
   "source": []
  }
 ],
 "metadata": {
  "kernelspec": {
   "display_name": "",
   "name": ""
  },
  "language_info": {
   "name": ""
  }
 },
 "nbformat": 4,
 "nbformat_minor": 5
}
